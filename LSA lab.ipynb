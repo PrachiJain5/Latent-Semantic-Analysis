{
 "cells": [
  {
   "cell_type": "markdown",
   "metadata": {},
   "source": [
    "# Latent Symantic Analysis"
   ]
  },
  {
   "cell_type": "code",
   "execution_count": 10,
   "metadata": {
    "collapsed": false
   },
   "outputs": [],
   "source": [
    "from sklearn.datasets import fetch_20newsgroups\n",
    "categories = ['rec.sport.baseball']\n",
    "dataset = fetch_20newsgroups(subset='all',shuffle=True, random_state=42, categories=categories)\n",
    "corpus = dataset.data"
   ]
  },
  {
   "cell_type": "code",
   "execution_count": 6,
   "metadata": {
    "collapsed": true
   },
   "outputs": [],
   "source": [
    "from bs4 import BeautifulSoup\n",
    "import nltk\n",
    "from nltk.corpus import stopwords\n",
    "from sklearn.feature_extraction.text import TfidfVectorizer\n",
    "from sklearn.decomposition import TruncatedSVD\n"
   ]
  },
  {
   "cell_type": "code",
   "execution_count": 7,
   "metadata": {
    "collapsed": true
   },
   "outputs": [],
   "source": [
    "categories = ['rec.sport.baseball']\n",
    "dataset = fetch_20newsgroups(subset='all',shuffle=True, random_state=42, categories=categories)\n",
    "corpus = dataset.data"
   ]
  },
  {
   "cell_type": "code",
   "execution_count": 9,
   "metadata": {
    "collapsed": false
   },
   "outputs": [
    {
     "name": "stdout",
     "output_type": "stream",
     "text": [
      "[nltk_data] Downloading package stopwords to\n",
      "[nltk_data]     C:\\Users\\pjain29\\AppData\\Roaming\\nltk_data...\n",
      "[nltk_data]   Package stopwords is already up-to-date!\n"
     ]
    },
    {
     "data": {
      "text/plain": [
       "True"
      ]
     },
     "execution_count": 9,
     "metadata": {},
     "output_type": "execute_result"
    }
   ],
   "source": [
    "nltk.download('stopwords')"
   ]
  },
  {
   "cell_type": "code",
   "execution_count": 11,
   "metadata": {
    "collapsed": true
   },
   "outputs": [],
   "source": [
    "corpus = [x.lower() for x in corpus]"
   ]
  },
  {
   "cell_type": "code",
   "execution_count": 12,
   "metadata": {
    "collapsed": false
   },
   "outputs": [
    {
     "data": {
      "text/plain": [
       "\"from: writingctr@leo.bsuvc.bsu.edu\\nsubject: re: cub fever.\\norganization: ball state university, muncie, in - univ. computing svc's\\nlines: 21\\n\\n\\nin article <kingoz.735285670@camelot>, kingoz@camelot.bradley.edu (orin roth) writes:\\n> \\n>    cub fever is hitting me again. i'm beginning to think they have a \\n>    chance this year. (what the heck am i thinking?)\\n>    sorry. just a moment of incompetence.\\n>    i'll be ok. really. \\n>    orin.\\n>    bradley u.\\n> \\n> --\\n> i'm really a jester in disguise!                                   \\ni hear ya!  then again, we must remember that we are indeed cub fans, and\\nthat the cubs will eventually blow it.  after all, the cubs are the easiest\\nteam in the national league to root for.  no pressure.  you know they will\\nlose eventually.  oh well, i suppose we must have faith.  after all, they\\ndo look pretty good, and they don't even have sandberg back yet.  \\n\\ncubs in '93!!!!!\\n\\ncha\\n\""
      ]
     },
     "execution_count": 12,
     "metadata": {},
     "output_type": "execute_result"
    }
   ],
   "source": [
    "corpus[0]"
   ]
  },
  {
   "cell_type": "code",
   "execution_count": 13,
   "metadata": {
    "collapsed": true
   },
   "outputs": [],
   "source": [
    "stopset = set(stopwords.words('english'))"
   ]
  },
  {
   "cell_type": "code",
   "execution_count": 14,
   "metadata": {
    "collapsed": true
   },
   "outputs": [],
   "source": [
    "stopset.update(['\\n','<','>','\\t','nntp','much','might','howard johnson','mike fester', 'robert holt',\n",
    "                'joe chiple', 'erik roush', 'mary cole', '~q', 'chuck clein', 'vaughn', 'chuq von rospach',\n",
    "                'roger maynard', 'since', 'imho', 'looking', 'neal traven', 'joe carter', \n",
    "               'roger lusting', 'doug ritter', 'keith keller', 'danny smith', 'michael lurie', 'bruce kleinman',\n",
    "               'richard', 'vaughn', 'jim clouse', 'orin roth', 'alan sepinwall', 'mike jones', 'charles m kozierok',\n",
    "               'ted frank', 'mark davis', 'greg spira', 'david rex wood', 'hody hagins', 'net', 'little',\n",
    "               'scott barman', 'doug roberts', 'help', 'douglas fowler', 'gary wieman', 'imho', 'right', 'enough', \n",
    "               'anyone', 'info', 'without', 'also', 'still', 'suppose', 'etc', 'believe', 'fact','thanks', 'made', \n",
    "               'called', 'really', 'seen', 'even', 'seems', 'maybe','better', 'think', 'like', '00 00', \n",
    "               'cs', 'com', 'us', 'edu', 'know', 'would', 'go', '00 00 00', 'anything', 'take', 'al', 'ca',\n",
    "               '00', '000', '000 000', '000 000 000', 'may', 'way', 'get',])"
   ]
  },
  {
   "cell_type": "code",
   "execution_count": 15,
   "metadata": {
    "collapsed": true
   },
   "outputs": [],
   "source": [
    "vectorizer = TfidfVectorizer(stop_words=stopset,\n",
    "                                 use_idf=True, ngram_range=(1, 3))\n",
    "X = vectorizer.fit_transform(corpus)"
   ]
  },
  {
   "cell_type": "code",
   "execution_count": 16,
   "metadata": {
    "collapsed": false
   },
   "outputs": [
    {
     "data": {
      "text/plain": [
       "<1x179540 sparse matrix of type '<class 'numpy.float64'>'\n",
       "\twith 210 stored elements in Compressed Sparse Row format>"
      ]
     },
     "execution_count": 16,
     "metadata": {},
     "output_type": "execute_result"
    }
   ],
   "source": [
    "X[0]"
   ]
  },
  {
   "cell_type": "code",
   "execution_count": 18,
   "metadata": {
    "collapsed": false
   },
   "outputs": [
    {
     "name": "stdout",
     "output_type": "stream",
     "text": [
      "  (0, 176245)\t0.0765116734718\n",
      "  (0, 94173)\t0.0515577555338\n",
      "  (0, 37927)\t0.0526198890253\n",
      "  (0, 37906)\t0.0526198890253\n",
      "  (0, 153567)\t0.0106124778944\n",
      "  (0, 49917)\t0.167582235092\n",
      "  (0, 64608)\t0.129705349688\n",
      "  (0, 114893)\t0.0106981492205\n",
      "  (0, 29246)\t0.0318894659959\n",
      "  (0, 150948)\t0.0387806207625\n",
      "  (0, 166422)\t0.0186854464098\n",
      "  (0, 107222)\t0.0632167541618\n",
      "  (0, 166386)\t0.0407763209123\n",
      "  (0, 46727)\t0.0404165414445\n",
      "  (0, 155611)\t0.0632167541618\n",
      "  (0, 95414)\t0.0106766664644\n",
      "  (0, 7712)\t0.0390882503567\n",
      "  (0, 25517)\t0.0167505629187\n",
      "  (0, 90385)\t0.114993331425\n",
      "  (0, 17089)\t0.0765116734718\n",
      "  (0, 39612)\t0.108887292156\n",
      "  (0, 36638)\t0.103115511068\n",
      "  (0, 115506)\t0.114993331425\n",
      "  (0, 136133)\t0.0574966657126\n",
      "  (0, 175288)\t0.01619480883\n",
      "  :\t:\n",
      "  (0, 49936)\t0.0765116734718\n",
      "  (0, 63507)\t0.0765116734718\n",
      "  (0, 50041)\t0.0765116734718\n",
      "  (0, 60891)\t0.0765116734718\n",
      "  (0, 34823)\t0.0765116734718\n",
      "  (0, 50035)\t0.0765116734718\n",
      "  (0, 57960)\t0.0765116734718\n",
      "  (0, 157213)\t0.0765116734718\n",
      "  (0, 108065)\t0.0765116734718\n",
      "  (0, 93141)\t0.0765116734718\n",
      "  (0, 135886)\t0.0765116734718\n",
      "  (0, 126416)\t0.0765116734718\n",
      "  (0, 97989)\t0.0765116734718\n",
      "  (0, 60905)\t0.0765116734718\n",
      "  (0, 112812)\t0.0765116734718\n",
      "  (0, 171525)\t0.0765116734718\n",
      "  (0, 107423)\t0.0765116734718\n",
      "  (0, 63038)\t0.0765116734718\n",
      "  (0, 97558)\t0.0765116734718\n",
      "  (0, 126521)\t0.0765116734718\n",
      "  (0, 73877)\t0.0765116734718\n",
      "  (0, 138738)\t0.0765116734718\n",
      "  (0, 28722)\t0.0765116734718\n",
      "  (0, 178804)\t0.0765116734718\n",
      "  (0, 49995)\t0.0765116734718\n"
     ]
    }
   ],
   "source": [
    "print (X[0])"
   ]
  },
  {
   "cell_type": "code",
   "execution_count": 19,
   "metadata": {
    "collapsed": false
   },
   "outputs": [
    {
     "data": {
      "text/plain": [
       "(994, 179540)"
      ]
     },
     "execution_count": 19,
     "metadata": {},
     "output_type": "execute_result"
    }
   ],
   "source": [
    "X.shape"
   ]
  },
  {
   "cell_type": "code",
   "execution_count": 20,
   "metadata": {
    "collapsed": false
   },
   "outputs": [
    {
     "data": {
      "text/plain": [
       "TruncatedSVD(algorithm='randomized', n_components=27, n_iter=100,\n",
       "       random_state=None, tol=0.0)"
      ]
     },
     "execution_count": 20,
     "metadata": {},
     "output_type": "execute_result"
    }
   ],
   "source": [
    "lsa = TruncatedSVD(n_components=27, n_iter=100)\n",
    "lsa.fit(X)"
   ]
  },
  {
   "cell_type": "code",
   "execution_count": 21,
   "metadata": {
    "collapsed": false
   },
   "outputs": [
    {
     "data": {
      "text/plain": [
       "array([ 0.00061338,  0.00061338,  0.00061338, ...,  0.00108248,\n",
       "        0.00108248,  0.00108248])"
      ]
     },
     "execution_count": 21,
     "metadata": {},
     "output_type": "execute_result"
    }
   ],
   "source": [
    "lsa.components_[0]"
   ]
  },
  {
   "cell_type": "code",
   "execution_count": 22,
   "metadata": {
    "collapsed": false
   },
   "outputs": [
    {
     "name": "stdout",
     "output_type": "stream",
     "text": [
      "3.6.0 |Anaconda 4.3.0 (64-bit)| (default, Dec 23 2016, 11:57:41) [MSC v.1900 64 bit (AMD64)]\n"
     ]
    }
   ],
   "source": [
    "import sys\n",
    "print (sys.version)"
   ]
  },
  {
   "cell_type": "code",
   "execution_count": 24,
   "metadata": {
    "collapsed": false
   },
   "outputs": [
    {
     "name": "stdout",
     "output_type": "stream",
     "text": [
      "Concept 0:\n",
      "year\n",
      "team\n",
      "game\n",
      "writes\n",
      "article\n",
      "baseball\n",
      "players\n",
      "games\n",
      "one\n",
      "good\n",
      " \n",
      "Concept 1:\n",
      "jewish\n",
      "lafayette\n",
      "lafibm\n",
      "vb30\n",
      "jewish baseball\n",
      "jewish baseball players\n",
      "baseball players\n",
      "lafayette vb30\n",
      "lafibm lafayette\n",
      "lafibm lafayette vb30\n",
      " \n",
      "Concept 2:\n",
      "03\n",
      "02\n",
      "04\n",
      "05\n",
      "01\n",
      "lost\n",
      "03 03\n",
      "06\n",
      "07\n",
      "02 04\n",
      " \n",
      "Concept 3:\n",
      "indiana\n",
      "journalism\n",
      "journalism indiana\n",
      "dwarner\n",
      "dwarner journalism\n",
      "dwarner journalism indiana\n",
      "david\n",
      "mail 411\n",
      "411\n",
      "1993 rap\n",
      " \n",
      "Concept 4:\n",
      "gatech\n",
      "prism\n",
      "georgia\n",
      "prism gatech\n",
      "gt0523e\n",
      "mule\n",
      "georgia institute\n",
      "georgia institute technology\n",
      "torre\n",
      "institute technology\n",
      " \n",
      "Concept 5:\n",
      "duke\n",
      "gant\n",
      "econ duke\n",
      "econ\n",
      "fls\n",
      "hirschbeck\n",
      "fls econ\n",
      "fls econ duke\n",
      "braves\n",
      "umpire\n",
      " \n",
      "Concept 6:\n",
      "bonds\n",
      "williams\n",
      "batting\n",
      "stanford\n",
      "batting 4th\n",
      "4th\n",
      "punjabi\n",
      "leland\n",
      "leland stanford\n",
      "giants\n",
      " \n",
      "Concept 7:\n",
      "ibm\n",
      "aix\n",
      "kingston\n",
      "mjones\n",
      "aix kingston\n",
      "aix kingston ibm\n",
      "kingston ibm\n",
      "bonds\n",
      "williams\n",
      "batting\n",
      " \n",
      "Concept 8:\n",
      "jhu\n",
      "hcf\n",
      "tesla\n",
      "hcf jhu\n",
      "jhunix\n",
      "jhunix hcf\n",
      "jhunix hcf jhu\n",
      "admiral\n",
      "njit\n",
      "tesla njit\n",
      " \n",
      "Concept 9:\n",
      "jhu\n",
      "hcf\n",
      "jhunix\n",
      "jhunix hcf\n",
      "jhunix hcf jhu\n",
      "hcf jhu\n",
      "admiral\n",
      "morris\n",
      "baltimore\n",
      "liu\n",
      " \n",
      "Concept 10:\n",
      "duke\n",
      "econ duke\n",
      "econ\n",
      "morris\n",
      "fls\n",
      "fls econ\n",
      "fls econ duke\n",
      "colorado\n",
      "maynard\n",
      "team\n",
      " \n",
      "Concept 11:\n",
      "roger\n",
      "princeton\n",
      "morris\n",
      "steph\n",
      "uiuc\n",
      "stanford\n",
      "princeton roger\n",
      "pegasus\n",
      "dale stephenson\n",
      "stephenson\n",
      " \n",
      "Concept 12:\n",
      "duke\n",
      "econ duke\n",
      "econ\n",
      "fls\n",
      "clutch\n",
      "fls econ\n",
      "fls econ duke\n",
      "mattingly\n",
      "alleg\n",
      "duke fls econ\n",
      " \n",
      "Concept 13:\n",
      "hall\n",
      "maine\n",
      "hall fame\n",
      "fame\n",
      "kingman\n",
      "scott\n",
      "dave kingman\n",
      "morris\n",
      "ryan\n",
      "dave\n",
      " \n",
      "Concept 14:\n",
      "rickert\n",
      "hulman\n",
      "rose hulman\n",
      "rose\n",
      "nextwork\n",
      "nextwork rose\n",
      "nextwork rose hulman\n",
      "scott\n",
      "princeton\n",
      "mets\n",
      " \n",
      "Concept 15:\n",
      "adobe\n",
      "drake\n",
      "snichols\n",
      "snichols adobe\n",
      "sherri\n",
      "sherri nichols\n",
      "upenn\n",
      "acad\n",
      "acad drake\n",
      "nichols\n",
      " \n",
      "Concept 16:\n",
      "princeton\n",
      "hall\n",
      "adobe\n",
      "hall fame\n",
      "fame\n",
      "roger\n",
      "drake\n",
      "kingman\n",
      "snichols\n",
      "snichols adobe\n",
      " \n",
      "Concept 17:\n",
      "hp\n",
      "cv\n",
      "cv hp\n",
      "scott\n",
      "koufax cv\n",
      "koufax cv hp\n",
      "tesla\n",
      "koufax\n",
      "njit\n",
      "tesla njit\n",
      " \n",
      "Concept 18:\n",
      "cv\n",
      "cv hp\n",
      "hp\n",
      "maine\n",
      "koufax cv\n",
      "koufax cv hp\n",
      "koufax\n",
      "paul\n",
      "andresen\n",
      "cv hp paul\n",
      " \n",
      "Concept 19:\n",
      "maine\n",
      "maine maine\n",
      "university maine\n",
      "io20456\n",
      "io20456 maine\n",
      "io20456 maine maine\n",
      "robbins\n",
      "ryan robbins\n",
      "ryan\n",
      "gant\n",
      " \n",
      "Concept 20:\n",
      "rickert\n",
      "hulman\n",
      "rose hulman\n",
      "rose\n",
      "tesla\n",
      "nextwork\n",
      "nextwork rose\n",
      "nextwork rose hulman\n",
      "games\n",
      "njit\n",
      " \n",
      "Concept 21:\n",
      "colorado\n",
      "spot colorado\n",
      "colorado boulder\n",
      "university colorado\n",
      "university colorado boulder\n",
      "boulder\n",
      "hp\n",
      "spot\n",
      "cornell\n",
      "gant\n",
      " \n",
      "Concept 22:\n",
      "scott\n",
      "asd\n",
      "rickert\n",
      "hulman\n",
      "rose hulman\n",
      "rose\n",
      "nextwork\n",
      "nextwork rose\n",
      "nextwork rose hulman\n",
      "barman\n",
      " \n",
      "Concept 23:\n",
      "alomar\n",
      "baerga\n",
      "niguma\n",
      "obp\n",
      "colorado\n",
      "tesla\n",
      "hall fame\n",
      "hall\n",
      "fame\n",
      "gant\n",
      " \n",
      "Concept 24:\n",
      "kirsch\n",
      "umn\n",
      "staff tc\n",
      "staff tc umn\n",
      "tc\n",
      "tc umn\n",
      "harry\n",
      "kirsch staff\n",
      "kirsch staff tc\n",
      "traven\n",
      " \n",
      "Concept 25:\n",
      "colorado\n",
      "david\n",
      "pitt\n",
      "team\n",
      "colorado boulder\n",
      "university colorado\n",
      "university colorado boulder\n",
      "spot colorado\n",
      "boulder\n",
      "spot\n",
      " \n",
      "Concept 26:\n",
      "gant\n",
      "hirschbeck\n",
      "roger\n",
      "princeton\n",
      "demers\n",
      "ucsd\n",
      "plymouth\n",
      "strike\n",
      "maynard\n",
      "laurentian\n",
      " \n"
     ]
    }
   ],
   "source": [
    "\n",
    "terms = vectorizer.get_feature_names()\n",
    "for i, comp in enumerate(lsa.components_): \n",
    "    termsInComp = zip (terms,comp)\n",
    "    sortedTerms =  sorted(termsInComp, key=lambda x: x[1], reverse=True) [:10]\n",
    "    print (\"Concept %d:\" % i)\n",
    "    for term in sortedTerms:\n",
    "        print (term[0])\n",
    "    print (\" \")"
   ]
  },
  {
   "cell_type": "code",
   "execution_count": null,
   "metadata": {
    "collapsed": true
   },
   "outputs": [],
   "source": []
  }
 ],
 "metadata": {
  "kernelspec": {
   "display_name": "Python 3",
   "language": "python",
   "name": "python3"
  },
  "language_info": {
   "codemirror_mode": {
    "name": "ipython",
    "version": 3
   },
   "file_extension": ".py",
   "mimetype": "text/x-python",
   "name": "python",
   "nbconvert_exporter": "python",
   "pygments_lexer": "ipython3",
   "version": "3.6.0"
  }
 },
 "nbformat": 4,
 "nbformat_minor": 2
}
